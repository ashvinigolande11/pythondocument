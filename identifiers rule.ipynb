{
 "cells": [
  {
   "cell_type": "code",
   "execution_count": 6,
   "id": "4b253f2b",
   "metadata": {},
   "outputs": [],
   "source": [
    "#Rules to define identifiers"
   ]
  },
  {
   "cell_type": "code",
   "execution_count": 7,
   "id": "766caa26",
   "metadata": {},
   "outputs": [],
   "source": [
    "#name given to varibalename --- class name  function name"
   ]
  },
  {
   "cell_type": "code",
   "execution_count": null,
   "id": "5891acc3",
   "metadata": {},
   "outputs": [],
   "source": [
    "1.allowed char a-zA-Z0-9,_"
   ]
  },
  {
   "cell_type": "code",
   "execution_count": null,
   "id": "d00f41b4",
   "metadata": {},
   "outputs": [],
   "source": []
  },
  {
   "cell_type": "code",
   "execution_count": 9,
   "id": "950cbcf2",
   "metadata": {},
   "outputs": [],
   "source": [
    "py_list = 450"
   ]
  },
  {
   "cell_type": "code",
   "execution_count": 10,
   "id": "3a42d598",
   "metadata": {},
   "outputs": [],
   "source": [
    "py100 = 632"
   ]
  },
  {
   "cell_type": "code",
   "execution_count": 11,
   "id": "3c6efeee",
   "metadata": {},
   "outputs": [
    {
     "data": {
      "text/plain": [
       "632"
      ]
     },
     "execution_count": 11,
     "metadata": {},
     "output_type": "execute_result"
    }
   ],
   "source": [
    "py100"
   ]
  },
  {
   "cell_type": "code",
   "execution_count": 12,
   "id": "432bb065",
   "metadata": {},
   "outputs": [],
   "source": [
    "AirPol = 4564"
   ]
  },
  {
   "cell_type": "code",
   "execution_count": 16,
   "id": "1b0064ba",
   "metadata": {},
   "outputs": [],
   "source": [
    "AIRPOL = 352345"
   ]
  },
  {
   "cell_type": "code",
   "execution_count": 17,
   "id": "653a1798",
   "metadata": {},
   "outputs": [
    {
     "data": {
      "text/plain": [
       "352345"
      ]
     },
     "execution_count": 17,
     "metadata": {},
     "output_type": "execute_result"
    }
   ],
   "source": [
    "AIRPOL"
   ]
  },
  {
   "cell_type": "code",
   "execution_count": null,
   "id": "c5eae032",
   "metadata": {},
   "outputs": [],
   "source": []
  },
  {
   "cell_type": "code",
   "execution_count": 18,
   "id": "503f345a",
   "metadata": {},
   "outputs": [
    {
     "ename": "SyntaxError",
     "evalue": "cannot assign to operator (<ipython-input-18-852cc574ee8e>, line 1)",
     "output_type": "error",
     "traceback": [
      "\u001b[1;36m  File \u001b[1;32m\"<ipython-input-18-852cc574ee8e>\"\u001b[1;36m, line \u001b[1;32m1\u001b[0m\n\u001b[1;33m    Price@mall = 450\u001b[0m\n\u001b[1;37m    ^\u001b[0m\n\u001b[1;31mSyntaxError\u001b[0m\u001b[1;31m:\u001b[0m cannot assign to operator\n"
     ]
    }
   ],
   "source": [
    "Price@mall = 450"
   ]
  },
  {
   "cell_type": "code",
   "execution_count": 19,
   "id": "a6b7ebd2",
   "metadata": {},
   "outputs": [],
   "source": [
    "cash=dfsdf = 950"
   ]
  },
  {
   "cell_type": "code",
   "execution_count": 20,
   "id": "03d7e5c6",
   "metadata": {},
   "outputs": [
    {
     "data": {
      "text/plain": [
       "950"
      ]
     },
     "execution_count": 20,
     "metadata": {},
     "output_type": "execute_result"
    }
   ],
   "source": [
    "cash"
   ]
  },
  {
   "cell_type": "code",
   "execution_count": 21,
   "id": "d4d3c093",
   "metadata": {},
   "outputs": [
    {
     "data": {
      "text/plain": [
       "950"
      ]
     },
     "execution_count": 21,
     "metadata": {},
     "output_type": "execute_result"
    }
   ],
   "source": [
    "dfsdf"
   ]
  },
  {
   "cell_type": "code",
   "execution_count": 22,
   "id": "cfbe09d7",
   "metadata": {},
   "outputs": [
    {
     "ename": "SyntaxError",
     "evalue": "cannot assign to operator (<ipython-input-22-6aedf52a9117>, line 1)",
     "output_type": "error",
     "traceback": [
      "\u001b[1;36m  File \u001b[1;32m\"<ipython-input-22-6aedf52a9117>\"\u001b[1;36m, line \u001b[1;32m1\u001b[0m\n\u001b[1;33m    df@process = 'Java'\u001b[0m\n\u001b[1;37m    ^\u001b[0m\n\u001b[1;31mSyntaxError\u001b[0m\u001b[1;31m:\u001b[0m cannot assign to operator\n"
     ]
    }
   ],
   "source": [
    "df@process = 'Java'"
   ]
  },
  {
   "cell_type": "code",
   "execution_count": 23,
   "id": "f295f3bb",
   "metadata": {},
   "outputs": [],
   "source": [
    "#2.no varibale/class/function never starts with number"
   ]
  },
  {
   "cell_type": "code",
   "execution_count": 24,
   "id": "53145fd5",
   "metadata": {},
   "outputs": [
    {
     "ename": "SyntaxError",
     "evalue": "invalid syntax (<ipython-input-24-f744e863b24e>, line 1)",
     "output_type": "error",
     "traceback": [
      "\u001b[1;36m  File \u001b[1;32m\"<ipython-input-24-f744e863b24e>\"\u001b[1;36m, line \u001b[1;32m1\u001b[0m\n\u001b[1;33m    123a = 450\u001b[0m\n\u001b[1;37m       ^\u001b[0m\n\u001b[1;31mSyntaxError\u001b[0m\u001b[1;31m:\u001b[0m invalid syntax\n"
     ]
    }
   ],
   "source": [
    "123a = 450"
   ]
  },
  {
   "cell_type": "code",
   "execution_count": 25,
   "id": "e5f1bdf4",
   "metadata": {},
   "outputs": [],
   "source": [
    "#3.you cabn define var with any length"
   ]
  },
  {
   "cell_type": "code",
   "execution_count": 26,
   "id": "f64968bf",
   "metadata": {},
   "outputs": [],
   "source": [
    "xxxxxxxxxxxxxxxxxxxxxxxxxxxxxxxxxxxxxxxxxxxxxxxxxxxxxxxxxxxxxxxxx= 4650"
   ]
  },
  {
   "cell_type": "code",
   "execution_count": 27,
   "id": "2a2a6508",
   "metadata": {},
   "outputs": [
    {
     "data": {
      "text/plain": [
       "4650"
      ]
     },
     "execution_count": 27,
     "metadata": {},
     "output_type": "execute_result"
    }
   ],
   "source": [
    "xxxxxxxxxxxxxxxxxxxxxxxxxxxxxxxxxxxxxxxxxxxxxxxxxxxxxxxxxxxxxxxxx"
   ]
  },
  {
   "cell_type": "code",
   "execution_count": 28,
   "id": "7fd70dac",
   "metadata": {},
   "outputs": [],
   "source": [
    "#4.identifiers are case sensetive"
   ]
  },
  {
   "cell_type": "code",
   "execution_count": 29,
   "id": "64511401",
   "metadata": {},
   "outputs": [],
   "source": [
    "price = 799"
   ]
  },
  {
   "cell_type": "code",
   "execution_count": 30,
   "id": "68124632",
   "metadata": {},
   "outputs": [],
   "source": [
    "PRICE = 600"
   ]
  },
  {
   "cell_type": "code",
   "execution_count": 31,
   "id": "0b83f399",
   "metadata": {},
   "outputs": [
    {
     "data": {
      "text/plain": [
       "799"
      ]
     },
     "execution_count": 31,
     "metadata": {},
     "output_type": "execute_result"
    }
   ],
   "source": [
    "price"
   ]
  },
  {
   "cell_type": "code",
   "execution_count": 32,
   "id": "61048d22",
   "metadata": {},
   "outputs": [
    {
     "data": {
      "text/plain": [
       "600"
      ]
     },
     "execution_count": 32,
     "metadata": {},
     "output_type": "execute_result"
    }
   ],
   "source": [
    "PRICE"
   ]
  },
  {
   "cell_type": "code",
   "execution_count": 33,
   "id": "cf64b0fc",
   "metadata": {},
   "outputs": [],
   "source": [
    "#5.you cant use keyword as identifiers"
   ]
  },
  {
   "cell_type": "code",
   "execution_count": null,
   "id": "49445e61",
   "metadata": {},
   "outputs": [],
   "source": [
    "word --> python "
   ]
  },
  {
   "cell_type": "code",
   "execution_count": 34,
   "id": "8bbcf3fa",
   "metadata": {},
   "outputs": [],
   "source": [
    "import keyword"
   ]
  },
  {
   "cell_type": "code",
   "execution_count": 35,
   "id": "57b8a984",
   "metadata": {},
   "outputs": [
    {
     "data": {
      "text/plain": [
       "['False',\n",
       " 'None',\n",
       " 'True',\n",
       " 'and',\n",
       " 'as',\n",
       " 'assert',\n",
       " 'async',\n",
       " 'await',\n",
       " 'break',\n",
       " 'class',\n",
       " 'continue',\n",
       " 'def',\n",
       " 'del',\n",
       " 'elif',\n",
       " 'else',\n",
       " 'except',\n",
       " 'finally',\n",
       " 'for',\n",
       " 'from',\n",
       " 'global',\n",
       " 'if',\n",
       " 'import',\n",
       " 'in',\n",
       " 'is',\n",
       " 'lambda',\n",
       " 'nonlocal',\n",
       " 'not',\n",
       " 'or',\n",
       " 'pass',\n",
       " 'raise',\n",
       " 'return',\n",
       " 'try',\n",
       " 'while',\n",
       " 'with',\n",
       " 'yield']"
      ]
     },
     "execution_count": 35,
     "metadata": {},
     "output_type": "execute_result"
    }
   ],
   "source": [
    "keyword.kwlist"
   ]
  },
  {
   "cell_type": "code",
   "execution_count": 36,
   "id": "aaf604a6",
   "metadata": {},
   "outputs": [
    {
     "ename": "SyntaxError",
     "evalue": "invalid syntax (<ipython-input-36-6ab79ea0c69e>, line 1)",
     "output_type": "error",
     "traceback": [
      "\u001b[1;36m  File \u001b[1;32m\"<ipython-input-36-6ab79ea0c69e>\"\u001b[1;36m, line \u001b[1;32m1\u001b[0m\n\u001b[1;33m    while = 5757\u001b[0m\n\u001b[1;37m          ^\u001b[0m\n\u001b[1;31mSyntaxError\u001b[0m\u001b[1;31m:\u001b[0m invalid syntax\n"
     ]
    }
   ],
   "source": [
    "while = 5757"
   ]
  },
  {
   "cell_type": "code",
   "execution_count": null,
   "id": "20cadbf5",
   "metadata": {},
   "outputs": [],
   "source": [
    "1.allowed char -- a-zA-Z0-9,_\n"
   ]
  },
  {
   "cell_type": "code",
   "execution_count": 39,
   "id": "f84798a7",
   "metadata": {},
   "outputs": [],
   "source": [
    "email_validaton_ON_21_04_2022 = 'python'"
   ]
  },
  {
   "cell_type": "code",
   "execution_count": 40,
   "id": "a69a0d9c",
   "metadata": {},
   "outputs": [
    {
     "data": {
      "text/plain": [
       "'python'"
      ]
     },
     "execution_count": 40,
     "metadata": {},
     "output_type": "execute_result"
    }
   ],
   "source": [
    "email_validaton_ON_21_04_2022"
   ]
  },
  {
   "cell_type": "code",
   "execution_count": null,
   "id": "bfaed418",
   "metadata": {},
   "outputs": [],
   "source": [
    "2.No identifers start with number"
   ]
  },
  {
   "cell_type": "code",
   "execution_count": 41,
   "id": "bd862062",
   "metadata": {},
   "outputs": [
    {
     "ename": "SyntaxError",
     "evalue": "invalid syntax (<ipython-input-41-d397697910d1>, line 1)",
     "output_type": "error",
     "traceback": [
      "\u001b[1;36m  File \u001b[1;32m\"<ipython-input-41-d397697910d1>\"\u001b[1;36m, line \u001b[1;32m1\u001b[0m\n\u001b[1;33m    1a = 'python'\u001b[0m\n\u001b[1;37m     ^\u001b[0m\n\u001b[1;31mSyntaxError\u001b[0m\u001b[1;31m:\u001b[0m invalid syntax\n"
     ]
    }
   ],
   "source": [
    "1a = 'python'"
   ]
  },
  {
   "cell_type": "code",
   "execution_count": 42,
   "id": "c375654a",
   "metadata": {},
   "outputs": [],
   "source": [
    "#3.any length variable you can define"
   ]
  },
  {
   "cell_type": "code",
   "execution_count": 43,
   "id": "e6f8d8e1",
   "metadata": {},
   "outputs": [],
   "source": [
    "sadfasgagasdghdfahadfhdfhsdfhfh= 4542"
   ]
  },
  {
   "cell_type": "code",
   "execution_count": 44,
   "id": "229e22f8",
   "metadata": {},
   "outputs": [
    {
     "data": {
      "text/plain": [
       "4542"
      ]
     },
     "execution_count": 44,
     "metadata": {},
     "output_type": "execute_result"
    }
   ],
   "source": [
    "sadfasgagasdghdfahadfhdfhsdfhfh"
   ]
  },
  {
   "cell_type": "code",
   "execution_count": 45,
   "id": "4b1a5282",
   "metadata": {},
   "outputs": [],
   "source": [
    "#4.case sensetive"
   ]
  },
  {
   "cell_type": "code",
   "execution_count": 46,
   "id": "d4e24e69",
   "metadata": {},
   "outputs": [],
   "source": [
    "a = 54654"
   ]
  },
  {
   "cell_type": "code",
   "execution_count": 48,
   "id": "aea180c8",
   "metadata": {},
   "outputs": [],
   "source": [
    "A = 123"
   ]
  },
  {
   "cell_type": "code",
   "execution_count": 49,
   "id": "857f4ebd",
   "metadata": {},
   "outputs": [
    {
     "data": {
      "text/plain": [
       "123"
      ]
     },
     "execution_count": 49,
     "metadata": {},
     "output_type": "execute_result"
    }
   ],
   "source": [
    "A"
   ]
  },
  {
   "cell_type": "code",
   "execution_count": 50,
   "id": "b8d408c8",
   "metadata": {},
   "outputs": [],
   "source": [
    "continue_test = 634634"
   ]
  },
  {
   "cell_type": "code",
   "execution_count": 51,
   "id": "a2cb5685",
   "metadata": {},
   "outputs": [
    {
     "data": {
      "text/plain": [
       "634634"
      ]
     },
     "execution_count": 51,
     "metadata": {},
     "output_type": "execute_result"
    }
   ],
   "source": [
    "continue_test"
   ]
  },
  {
   "cell_type": "code",
   "execution_count": 52,
   "id": "3fdd11c2",
   "metadata": {},
   "outputs": [],
   "source": [
    "continue_ = 5454"
   ]
  },
  {
   "cell_type": "code",
   "execution_count": 53,
   "id": "2655e817",
   "metadata": {},
   "outputs": [
    {
     "data": {
      "text/plain": [
       "5454"
      ]
     },
     "execution_count": 53,
     "metadata": {},
     "output_type": "execute_result"
    }
   ],
   "source": [
    "continue_\n"
   ]
  },
  {
   "cell_type": "code",
   "execution_count": 54,
   "id": "f60f57f9",
   "metadata": {},
   "outputs": [],
   "source": [
    "#_ = powerfull symbol"
   ]
  },
  {
   "cell_type": "code",
   "execution_count": 55,
   "id": "605c0743",
   "metadata": {},
   "outputs": [],
   "source": [
    "_ = 45610"
   ]
  },
  {
   "cell_type": "code",
   "execution_count": 56,
   "id": "0e1e8ead",
   "metadata": {},
   "outputs": [
    {
     "data": {
      "text/plain": [
       "45610"
      ]
     },
     "execution_count": 56,
     "metadata": {},
     "output_type": "execute_result"
    }
   ],
   "source": [
    "_"
   ]
  },
  {
   "cell_type": "code",
   "execution_count": null,
   "id": "cb47a131",
   "metadata": {},
   "outputs": [],
   "source": []
  }
 ],
 "metadata": {
  "kernelspec": {
   "display_name": "Python 3",
   "language": "python",
   "name": "python3"
  },
  "language_info": {
   "codemirror_mode": {
    "name": "ipython",
    "version": 3
   },
   "file_extension": ".py",
   "mimetype": "text/x-python",
   "name": "python",
   "nbconvert_exporter": "python",
   "pygments_lexer": "ipython3",
   "version": "3.8.8"
  }
 },
 "nbformat": 4,
 "nbformat_minor": 5
}
