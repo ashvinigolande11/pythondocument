{
 "cells": [
  {
   "cell_type": "code",
   "execution_count": 1,
   "id": "64d551d2",
   "metadata": {},
   "outputs": [],
   "source": [
    "#Data Type\n",
    "type of data"
   ]
  },
  {
   "cell_type": "code",
   "execution_count": null,
   "id": "b2b7b457",
   "metadata": {},
   "outputs": [],
   "source": [
    "complete (without fraction) ---> int"
   ]
  },
  {
   "cell_type": "code",
   "execution_count": 2,
   "id": "009124a1",
   "metadata": {},
   "outputs": [],
   "source": [
    "a = 4567"
   ]
  },
  {
   "cell_type": "code",
   "execution_count": 3,
   "id": "060e61a4",
   "metadata": {},
   "outputs": [
    {
     "data": {
      "text/plain": [
       "int"
      ]
     },
     "execution_count": 3,
     "metadata": {},
     "output_type": "execute_result"
    }
   ],
   "source": [
    "type(a)"
   ]
  },
  {
   "cell_type": "code",
   "execution_count": 4,
   "id": "b552a1c9",
   "metadata": {},
   "outputs": [],
   "source": [
    "t = 63.56"
   ]
  },
  {
   "cell_type": "code",
   "execution_count": 5,
   "id": "1af40300",
   "metadata": {},
   "outputs": [
    {
     "data": {
      "text/plain": [
       "float"
      ]
     },
     "execution_count": 5,
     "metadata": {},
     "output_type": "execute_result"
    }
   ],
   "source": [
    "type(t)"
   ]
  },
  {
   "cell_type": "code",
   "execution_count": 6,
   "id": "1109ecc0",
   "metadata": {},
   "outputs": [],
   "source": [
    "test = 6521"
   ]
  },
  {
   "cell_type": "code",
   "execution_count": 7,
   "id": "eecf3952",
   "metadata": {},
   "outputs": [
    {
     "data": {
      "text/plain": [
       "6521"
      ]
     },
     "execution_count": 7,
     "metadata": {},
     "output_type": "execute_result"
    }
   ],
   "source": [
    "test"
   ]
  },
  {
   "cell_type": "code",
   "execution_count": 8,
   "id": "a891f8a6",
   "metadata": {},
   "outputs": [],
   "source": [
    "test = 'pytjhon'"
   ]
  },
  {
   "cell_type": "code",
   "execution_count": 9,
   "id": "b08a7a5c",
   "metadata": {},
   "outputs": [
    {
     "data": {
      "text/plain": [
       "str"
      ]
     },
     "execution_count": 9,
     "metadata": {},
     "output_type": "execute_result"
    }
   ],
   "source": [
    "type(test)"
   ]
  },
  {
   "cell_type": "code",
   "execution_count": 10,
   "id": "a6a0de4d",
   "metadata": {},
   "outputs": [],
   "source": [
    "test = 45.565"
   ]
  },
  {
   "cell_type": "code",
   "execution_count": 11,
   "id": "72c041b2",
   "metadata": {},
   "outputs": [
    {
     "data": {
      "text/plain": [
       "float"
      ]
     },
     "execution_count": 11,
     "metadata": {},
     "output_type": "execute_result"
    }
   ],
   "source": [
    "type(test)"
   ]
  },
  {
   "cell_type": "code",
   "execution_count": 12,
   "id": "9f2b6f3f",
   "metadata": {},
   "outputs": [],
   "source": [
    "test = 56+70j"
   ]
  },
  {
   "cell_type": "code",
   "execution_count": 13,
   "id": "0241d642",
   "metadata": {},
   "outputs": [
    {
     "data": {
      "text/plain": [
       "complex"
      ]
     },
     "execution_count": 13,
     "metadata": {},
     "output_type": "execute_result"
    }
   ],
   "source": [
    "type(test)"
   ]
  },
  {
   "cell_type": "code",
   "execution_count": 14,
   "id": "c6ce91e3",
   "metadata": {},
   "outputs": [],
   "source": [
    "test = True"
   ]
  },
  {
   "cell_type": "code",
   "execution_count": 15,
   "id": "730dc5e4",
   "metadata": {},
   "outputs": [
    {
     "data": {
      "text/plain": [
       "bool"
      ]
     },
     "execution_count": 15,
     "metadata": {},
     "output_type": "execute_result"
    }
   ],
   "source": [
    "type(test)"
   ]
  },
  {
   "cell_type": "code",
   "execution_count": 19,
   "id": "d2eda7cb",
   "metadata": {},
   "outputs": [
    {
     "ename": "SyntaxError",
     "evalue": "invalid syntax (<ipython-input-19-ad1212f70f6d>, line 1)",
     "output_type": "error",
     "traceback": [
      "\u001b[1;36m  File \u001b[1;32m\"<ipython-input-19-ad1212f70f6d>\"\u001b[1;36m, line \u001b[1;32m1\u001b[0m\n\u001b[1;33m    int ---------> complete number\u001b[0m\n\u001b[1;37m                ^\u001b[0m\n\u001b[1;31mSyntaxError\u001b[0m\u001b[1;31m:\u001b[0m invalid syntax\n"
     ]
    }
   ],
   "source": [
    "int ---------> complete number\n",
    "float -------> number with fraction(decimal point)\n",
    "str ---------> collection of char\n",
    "complex \n",
    "bool\n",
    "None\n",
    "\n",
    "#Note -> no char datatype in python"
   ]
  },
  {
   "cell_type": "code",
   "execution_count": 17,
   "id": "6095f18d",
   "metadata": {},
   "outputs": [],
   "source": [
    "a = 'y'"
   ]
  },
  {
   "cell_type": "code",
   "execution_count": 18,
   "id": "80f47241",
   "metadata": {},
   "outputs": [
    {
     "data": {
      "text/plain": [
       "str"
      ]
     },
     "execution_count": 18,
     "metadata": {},
     "output_type": "execute_result"
    }
   ],
   "source": [
    "type(a)"
   ]
  },
  {
   "cell_type": "code",
   "execution_count": 21,
   "id": "55383798",
   "metadata": {},
   "outputs": [],
   "source": [
    "a = 'Python'"
   ]
  },
  {
   "cell_type": "code",
   "execution_count": 22,
   "id": "0c00a513",
   "metadata": {},
   "outputs": [
    {
     "data": {
      "text/plain": [
       "str"
      ]
     },
     "execution_count": 22,
     "metadata": {},
     "output_type": "execute_result"
    }
   ],
   "source": [
    "type(a)"
   ]
  },
  {
   "cell_type": "code",
   "execution_count": null,
   "id": "922c426a",
   "metadata": {},
   "outputs": [],
   "source": [
    "Page : \n",
    "    General methods:\n",
    "        type() ---> to check type of variable"
   ]
  },
  {
   "cell_type": "code",
   "execution_count": null,
   "id": "03ab78c8",
   "metadata": {},
   "outputs": [],
   "source": []
  },
  {
   "cell_type": "code",
   "execution_count": 23,
   "id": "cc183b68",
   "metadata": {},
   "outputs": [],
   "source": [
    "py_complex = 10+11j"
   ]
  },
  {
   "cell_type": "code",
   "execution_count": 24,
   "id": "3f66f7f2",
   "metadata": {},
   "outputs": [
    {
     "data": {
      "text/plain": [
       "complex"
      ]
     },
     "execution_count": 24,
     "metadata": {},
     "output_type": "execute_result"
    }
   ],
   "source": [
    "type(py_complex)"
   ]
  },
  {
   "cell_type": "code",
   "execution_count": null,
   "id": "9c953f3b",
   "metadata": {},
   "outputs": [],
   "source": []
  },
  {
   "cell_type": "code",
   "execution_count": null,
   "id": "f2b95abb",
   "metadata": {},
   "outputs": [],
   "source": [
    "bool\n",
    "\n",
    "\n",
    "True or False\n",
    "\n",
    "True --->1\n",
    "False --->0"
   ]
  },
  {
   "cell_type": "code",
   "execution_count": 25,
   "id": "8a78d0b0",
   "metadata": {},
   "outputs": [
    {
     "data": {
      "text/plain": [
       "2"
      ]
     },
     "execution_count": 25,
     "metadata": {},
     "output_type": "execute_result"
    }
   ],
   "source": [
    "True+True"
   ]
  },
  {
   "cell_type": "code",
   "execution_count": null,
   "id": "3342dbe0",
   "metadata": {},
   "outputs": [],
   "source": []
  },
  {
   "cell_type": "code",
   "execution_count": 26,
   "id": "f4122c33",
   "metadata": {},
   "outputs": [
    {
     "data": {
      "text/plain": [
       "0"
      ]
     },
     "execution_count": 26,
     "metadata": {},
     "output_type": "execute_result"
    }
   ],
   "source": [
    "True-True"
   ]
  },
  {
   "cell_type": "code",
   "execution_count": 27,
   "id": "37865569",
   "metadata": {},
   "outputs": [
    {
     "data": {
      "text/plain": [
       "0"
      ]
     },
     "execution_count": 27,
     "metadata": {},
     "output_type": "execute_result"
    }
   ],
   "source": [
    "False+False+False"
   ]
  },
  {
   "cell_type": "code",
   "execution_count": null,
   "id": "984d0b26",
   "metadata": {},
   "outputs": [],
   "source": [
    "True -->1\n",
    "False -->0"
   ]
  },
  {
   "cell_type": "code",
   "execution_count": null,
   "id": "7ad77124",
   "metadata": {},
   "outputs": [],
   "source": []
  },
  {
   "cell_type": "code",
   "execution_count": 28,
   "id": "455a3a49",
   "metadata": {},
   "outputs": [],
   "source": [
    "a = True"
   ]
  },
  {
   "cell_type": "code",
   "execution_count": 29,
   "id": "56d1e612",
   "metadata": {},
   "outputs": [
    {
     "data": {
      "text/plain": [
       "bool"
      ]
     },
     "execution_count": 29,
     "metadata": {},
     "output_type": "execute_result"
    }
   ],
   "source": [
    "type(a)"
   ]
  },
  {
   "cell_type": "code",
   "execution_count": 30,
   "id": "7872742f",
   "metadata": {},
   "outputs": [
    {
     "data": {
      "text/plain": [
       "True"
      ]
     },
     "execution_count": 30,
     "metadata": {},
     "output_type": "execute_result"
    }
   ],
   "source": [
    "a"
   ]
  },
  {
   "cell_type": "code",
   "execution_count": 31,
   "id": "aea8b02d",
   "metadata": {},
   "outputs": [
    {
     "data": {
      "text/plain": [
       "51"
      ]
     },
     "execution_count": 31,
     "metadata": {},
     "output_type": "execute_result"
    }
   ],
   "source": [
    "a+50"
   ]
  },
  {
   "cell_type": "code",
   "execution_count": 32,
   "id": "049bb7c5",
   "metadata": {},
   "outputs": [],
   "source": [
    "a = 1"
   ]
  },
  {
   "cell_type": "code",
   "execution_count": 33,
   "id": "a89f4012",
   "metadata": {},
   "outputs": [
    {
     "data": {
      "text/plain": [
       "int"
      ]
     },
     "execution_count": 33,
     "metadata": {},
     "output_type": "execute_result"
    }
   ],
   "source": [
    "type(a)"
   ]
  },
  {
   "cell_type": "code",
   "execution_count": 34,
   "id": "15b71266",
   "metadata": {},
   "outputs": [],
   "source": [
    "a = 10"
   ]
  },
  {
   "cell_type": "code",
   "execution_count": 35,
   "id": "94be58c9",
   "metadata": {},
   "outputs": [],
   "source": [
    "b= 20"
   ]
  },
  {
   "cell_type": "code",
   "execution_count": 37,
   "id": "fb330ad6",
   "metadata": {},
   "outputs": [],
   "source": [
    "temp = a<b"
   ]
  },
  {
   "cell_type": "code",
   "execution_count": 38,
   "id": "5143c767",
   "metadata": {},
   "outputs": [
    {
     "data": {
      "text/plain": [
       "bool"
      ]
     },
     "execution_count": 38,
     "metadata": {},
     "output_type": "execute_result"
    }
   ],
   "source": [
    "type(temp)"
   ]
  },
  {
   "cell_type": "code",
   "execution_count": null,
   "id": "1e787b5d",
   "metadata": {},
   "outputs": [],
   "source": [
    "DS\n",
    "---\n",
    "1.list\n",
    "2.tuple\n",
    "3.set\n",
    "4.dict\n",
    "5.frozenset\n",
    "6.string\n"
   ]
  },
  {
   "cell_type": "code",
   "execution_count": null,
   "id": "40dc6bab",
   "metadata": {},
   "outputs": [],
   "source": []
  },
  {
   "cell_type": "code",
   "execution_count": 40,
   "id": "700e5fd0",
   "metadata": {},
   "outputs": [],
   "source": [
    "py_list = None"
   ]
  },
  {
   "cell_type": "code",
   "execution_count": 41,
   "id": "7667e070",
   "metadata": {},
   "outputs": [
    {
     "data": {
      "text/plain": [
       "NoneType"
      ]
     },
     "execution_count": 41,
     "metadata": {},
     "output_type": "execute_result"
    }
   ],
   "source": [
    "type(py_list)"
   ]
  },
  {
   "cell_type": "code",
   "execution_count": 42,
   "id": "c00e764c",
   "metadata": {},
   "outputs": [],
   "source": [
    "py_list"
   ]
  },
  {
   "cell_type": "code",
   "execution_count": 43,
   "id": "ef195cb4",
   "metadata": {},
   "outputs": [
    {
     "name": "stdout",
     "output_type": "stream",
     "text": [
      "Requirement already satisfied: pandas in c:\\users\\kanti\\anaconda3\\lib\\site-packages (1.4.0)\n",
      "Requirement already satisfied: python-dateutil>=2.8.1 in c:\\users\\kanti\\anaconda3\\lib\\site-packages (from pandas) (2.8.1)\n",
      "Requirement already satisfied: numpy>=1.18.5 in c:\\users\\kanti\\anaconda3\\lib\\site-packages (from pandas) (1.20.1)\n",
      "Requirement already satisfied: pytz>=2020.1 in c:\\users\\kanti\\anaconda3\\lib\\site-packages (from pandas) (2021.1)\n",
      "Requirement already satisfied: six>=1.5 in c:\\users\\kanti\\anaconda3\\lib\\site-packages (from python-dateutil>=2.8.1->pandas) (1.15.0)\n",
      "Note: you may need to restart the kernel to use updated packages.\n"
     ]
    }
   ],
   "source": [
    "pip install pandas"
   ]
  },
  {
   "cell_type": "code",
   "execution_count": null,
   "id": "5060ea76",
   "metadata": {},
   "outputs": [],
   "source": []
  }
 ],
 "metadata": {
  "kernelspec": {
   "display_name": "Python 3",
   "language": "python",
   "name": "python3"
  },
  "language_info": {
   "codemirror_mode": {
    "name": "ipython",
    "version": 3
   },
   "file_extension": ".py",
   "mimetype": "text/x-python",
   "name": "python",
   "nbconvert_exporter": "python",
   "pygments_lexer": "ipython3",
   "version": "3.8.8"
  }
 },
 "nbformat": 4,
 "nbformat_minor": 5
}
