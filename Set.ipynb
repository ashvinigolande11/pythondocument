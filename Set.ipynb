{
 "cells": [
  {
   "cell_type": "code",
   "execution_count": null,
   "id": "b305c9f0",
   "metadata": {},
   "outputs": [],
   "source": [
    "Set\n",
    "1.set is unordered collection of unique elements\n",
    "2.{at least one element}\n",
    "3.indexing is not possible\n",
    "4.it is mutable type---> insert/delete/update"
   ]
  },
  {
   "cell_type": "code",
   "execution_count": null,
   "id": "521b38df",
   "metadata": {},
   "outputs": [],
   "source": []
  },
  {
   "cell_type": "code",
   "execution_count": 1,
   "id": "00161c67",
   "metadata": {},
   "outputs": [],
   "source": [
    "p = {}"
   ]
  },
  {
   "cell_type": "code",
   "execution_count": 2,
   "id": "312e90ef",
   "metadata": {},
   "outputs": [
    {
     "data": {
      "text/plain": [
       "dict"
      ]
     },
     "execution_count": 2,
     "metadata": {},
     "output_type": "execute_result"
    }
   ],
   "source": [
    "type(p)"
   ]
  },
  {
   "cell_type": "code",
   "execution_count": 3,
   "id": "7bea9dca",
   "metadata": {},
   "outputs": [],
   "source": [
    "p = {1,1,1,1,1,1,1,1,2,3,4,4,4,4,4,4,4,5,6,}"
   ]
  },
  {
   "cell_type": "code",
   "execution_count": 4,
   "id": "e6c7fb78",
   "metadata": {},
   "outputs": [
    {
     "data": {
      "text/plain": [
       "{1, 2, 3, 4, 5, 6}"
      ]
     },
     "execution_count": 4,
     "metadata": {},
     "output_type": "execute_result"
    }
   ],
   "source": [
    "p"
   ]
  },
  {
   "cell_type": "code",
   "execution_count": 5,
   "id": "e8a9c3da",
   "metadata": {},
   "outputs": [],
   "source": [
    "p = {10,30,'python','java',100,'c','hadoop'}"
   ]
  },
  {
   "cell_type": "code",
   "execution_count": 6,
   "id": "728558da",
   "metadata": {},
   "outputs": [
    {
     "data": {
      "text/plain": [
       "{10, 100, 30, 'c', 'hadoop', 'java', 'python'}"
      ]
     },
     "execution_count": 6,
     "metadata": {},
     "output_type": "execute_result"
    }
   ],
   "source": [
    "p"
   ]
  },
  {
   "cell_type": "code",
   "execution_count": null,
   "id": "dfb9e823",
   "metadata": {},
   "outputs": [],
   "source": [
    "list  --> ordered\n",
    "\n",
    "tuple --> ordered"
   ]
  },
  {
   "cell_type": "code",
   "execution_count": 7,
   "id": "eec0a03f",
   "metadata": {},
   "outputs": [
    {
     "ename": "TypeError",
     "evalue": "'set' object is not subscriptable",
     "output_type": "error",
     "traceback": [
      "\u001b[1;31m---------------------------------------------------------------------------\u001b[0m",
      "\u001b[1;31mTypeError\u001b[0m                                 Traceback (most recent call last)",
      "\u001b[1;32m<ipython-input-7-936fada7cb05>\u001b[0m in \u001b[0;36m<module>\u001b[1;34m\u001b[0m\n\u001b[1;32m----> 1\u001b[1;33m \u001b[0mp\u001b[0m\u001b[1;33m[\u001b[0m\u001b[1;36m3\u001b[0m\u001b[1;33m]\u001b[0m\u001b[1;33m\u001b[0m\u001b[1;33m\u001b[0m\u001b[0m\n\u001b[0m",
      "\u001b[1;31mTypeError\u001b[0m: 'set' object is not subscriptable"
     ]
    }
   ],
   "source": [
    "p[3]"
   ]
  },
  {
   "cell_type": "code",
   "execution_count": 8,
   "id": "d5617393",
   "metadata": {},
   "outputs": [
    {
     "data": {
      "text/plain": [
       "{10, 100, 30, 'c', 'hadoop', 'java', 'python'}"
      ]
     },
     "execution_count": 8,
     "metadata": {},
     "output_type": "execute_result"
    }
   ],
   "source": [
    "p"
   ]
  },
  {
   "cell_type": "code",
   "execution_count": null,
   "id": "09bd7a14",
   "metadata": {},
   "outputs": [],
   "source": [
    "1.insert\n",
    "add()\n",
    "update()\n",
    "\n",
    "\n",
    "\n",
    "2.delete\n",
    "\n",
    "\n",
    "\n"
   ]
  },
  {
   "cell_type": "code",
   "execution_count": null,
   "id": "f33d09ff",
   "metadata": {},
   "outputs": [],
   "source": []
  },
  {
   "cell_type": "code",
   "execution_count": 9,
   "id": "83dee9a1",
   "metadata": {},
   "outputs": [
    {
     "data": {
      "text/plain": [
       "{10, 100, 30, 'c', 'hadoop', 'java', 'python'}"
      ]
     },
     "execution_count": 9,
     "metadata": {},
     "output_type": "execute_result"
    }
   ],
   "source": [
    "p"
   ]
  },
  {
   "cell_type": "code",
   "execution_count": 10,
   "id": "33a7024c",
   "metadata": {},
   "outputs": [],
   "source": [
    "p.add('pyspark')  # add single element"
   ]
  },
  {
   "cell_type": "code",
   "execution_count": 11,
   "id": "7014e0b9",
   "metadata": {},
   "outputs": [
    {
     "data": {
      "text/plain": [
       "{10, 100, 30, 'c', 'hadoop', 'java', 'pyspark', 'python'}"
      ]
     },
     "execution_count": 11,
     "metadata": {},
     "output_type": "execute_result"
    }
   ],
   "source": [
    "p"
   ]
  },
  {
   "cell_type": "code",
   "execution_count": 16,
   "id": "b1f5afd3",
   "metadata": {},
   "outputs": [],
   "source": [
    "p.add(500)"
   ]
  },
  {
   "cell_type": "code",
   "execution_count": 17,
   "id": "e37ace2e",
   "metadata": {},
   "outputs": [
    {
     "data": {
      "text/plain": [
       "{10, 100, 30, 500, 'c', 'hadoop', 'java', 'pyspark', 'python'}"
      ]
     },
     "execution_count": 17,
     "metadata": {},
     "output_type": "execute_result"
    }
   ],
   "source": [
    "p"
   ]
  },
  {
   "cell_type": "code",
   "execution_count": 18,
   "id": "94547dfb",
   "metadata": {},
   "outputs": [],
   "source": [
    "#multiple element"
   ]
  },
  {
   "cell_type": "code",
   "execution_count": 26,
   "id": "78a92507",
   "metadata": {},
   "outputs": [],
   "source": [
    "p.update([600,300,500,100,'python'])"
   ]
  },
  {
   "cell_type": "code",
   "execution_count": 20,
   "id": "1923224b",
   "metadata": {},
   "outputs": [
    {
     "data": {
      "text/plain": [
       "{10, 100, 30, 300, 500, 600, 'c', 'hadoop', 'java', 'pyspark', 'python'}"
      ]
     },
     "execution_count": 20,
     "metadata": {},
     "output_type": "execute_result"
    }
   ],
   "source": [
    "p"
   ]
  },
  {
   "cell_type": "code",
   "execution_count": 21,
   "id": "c12267bd",
   "metadata": {},
   "outputs": [],
   "source": [
    "s1 = {1,2,3}"
   ]
  },
  {
   "cell_type": "code",
   "execution_count": 22,
   "id": "e8d2bb40",
   "metadata": {},
   "outputs": [],
   "source": [
    "s2 = {100,200,300}"
   ]
  },
  {
   "cell_type": "code",
   "execution_count": 23,
   "id": "f86715ff",
   "metadata": {},
   "outputs": [],
   "source": [
    "s2.update(s1)"
   ]
  },
  {
   "cell_type": "code",
   "execution_count": 24,
   "id": "75784947",
   "metadata": {},
   "outputs": [
    {
     "data": {
      "text/plain": [
       "{1, 2, 3, 100, 200, 300}"
      ]
     },
     "execution_count": 24,
     "metadata": {},
     "output_type": "execute_result"
    }
   ],
   "source": [
    "s2"
   ]
  },
  {
   "cell_type": "code",
   "execution_count": 25,
   "id": "aadcc3c9",
   "metadata": {},
   "outputs": [
    {
     "data": {
      "text/plain": [
       "()"
      ]
     },
     "execution_count": 25,
     "metadata": {},
     "output_type": "execute_result"
    }
   ],
   "source": [
    "k.index()"
   ]
  },
  {
   "cell_type": "code",
   "execution_count": 27,
   "id": "efb2d934",
   "metadata": {},
   "outputs": [
    {
     "data": {
      "text/plain": [
       "{10, 100, 30, 300, 500, 600, 'c', 'hadoop', 'java', 'pyspark', 'python'}"
      ]
     },
     "execution_count": 27,
     "metadata": {},
     "output_type": "execute_result"
    }
   ],
   "source": [
    "p"
   ]
  },
  {
   "cell_type": "code",
   "execution_count": 28,
   "id": "82389ab7",
   "metadata": {},
   "outputs": [],
   "source": [
    "py_set = {10, 100, 30, 300, 500, 600}"
   ]
  },
  {
   "cell_type": "code",
   "execution_count": 29,
   "id": "9ce60de9",
   "metadata": {},
   "outputs": [],
   "source": [
    "#delete\n",
    "\n",
    "1.remove\n",
    "if element present in set then delete if not then return KeyError\n",
    "\n",
    "\n",
    "2.discard\n",
    "if element present then delete if not then skip(do nothing)\n",
    "\n",
    "\n",
    "3.pop\n",
    "it will delete element randomly"
   ]
  },
  {
   "cell_type": "code",
   "execution_count": 30,
   "id": "770a33ab",
   "metadata": {},
   "outputs": [],
   "source": [
    "py_set.remove(100)"
   ]
  },
  {
   "cell_type": "code",
   "execution_count": 31,
   "id": "366e231f",
   "metadata": {},
   "outputs": [
    {
     "data": {
      "text/plain": [
       "{10, 30, 300, 500, 600}"
      ]
     },
     "execution_count": 31,
     "metadata": {},
     "output_type": "execute_result"
    }
   ],
   "source": [
    "py_set"
   ]
  },
  {
   "cell_type": "code",
   "execution_count": 32,
   "id": "92755ddf",
   "metadata": {},
   "outputs": [
    {
     "ename": "KeyError",
     "evalue": "'python'",
     "output_type": "error",
     "traceback": [
      "\u001b[1;31m---------------------------------------------------------------------------\u001b[0m",
      "\u001b[1;31mKeyError\u001b[0m                                  Traceback (most recent call last)",
      "\u001b[1;32m<ipython-input-32-b37c743aa0e7>\u001b[0m in \u001b[0;36m<module>\u001b[1;34m\u001b[0m\n\u001b[1;32m----> 1\u001b[1;33m \u001b[0mpy_set\u001b[0m\u001b[1;33m.\u001b[0m\u001b[0mremove\u001b[0m\u001b[1;33m(\u001b[0m\u001b[1;34m'python'\u001b[0m\u001b[1;33m)\u001b[0m\u001b[1;33m\u001b[0m\u001b[1;33m\u001b[0m\u001b[0m\n\u001b[0m",
      "\u001b[1;31mKeyError\u001b[0m: 'python'"
     ]
    }
   ],
   "source": [
    "py_set.remove('python')"
   ]
  },
  {
   "cell_type": "code",
   "execution_count": 33,
   "id": "ae5ef035",
   "metadata": {},
   "outputs": [],
   "source": [
    "py_list = [1,2,3]"
   ]
  },
  {
   "cell_type": "code",
   "execution_count": 34,
   "id": "5fc2122d",
   "metadata": {},
   "outputs": [
    {
     "ename": "ValueError",
     "evalue": "list.remove(x): x not in list",
     "output_type": "error",
     "traceback": [
      "\u001b[1;31m---------------------------------------------------------------------------\u001b[0m",
      "\u001b[1;31mValueError\u001b[0m                                Traceback (most recent call last)",
      "\u001b[1;32m<ipython-input-34-cf569ec47a77>\u001b[0m in \u001b[0;36m<module>\u001b[1;34m\u001b[0m\n\u001b[1;32m----> 1\u001b[1;33m \u001b[0mpy_list\u001b[0m\u001b[1;33m.\u001b[0m\u001b[0mremove\u001b[0m\u001b[1;33m(\u001b[0m\u001b[1;36m100\u001b[0m\u001b[1;33m)\u001b[0m\u001b[1;33m\u001b[0m\u001b[1;33m\u001b[0m\u001b[0m\n\u001b[0m",
      "\u001b[1;31mValueError\u001b[0m: list.remove(x): x not in list"
     ]
    }
   ],
   "source": [
    "py_list.remove(100)"
   ]
  },
  {
   "cell_type": "code",
   "execution_count": 35,
   "id": "ecf328d7",
   "metadata": {},
   "outputs": [],
   "source": [
    "py_set.discard('python')"
   ]
  },
  {
   "cell_type": "code",
   "execution_count": 36,
   "id": "37c4162a",
   "metadata": {},
   "outputs": [
    {
     "data": {
      "text/plain": [
       "10"
      ]
     },
     "execution_count": 36,
     "metadata": {},
     "output_type": "execute_result"
    }
   ],
   "source": [
    "py_set.pop()"
   ]
  },
  {
   "cell_type": "code",
   "execution_count": 37,
   "id": "f3db6e3c",
   "metadata": {},
   "outputs": [
    {
     "data": {
      "text/plain": [
       "{30, 300, 500, 600}"
      ]
     },
     "execution_count": 37,
     "metadata": {},
     "output_type": "execute_result"
    }
   ],
   "source": [
    "py_set"
   ]
  },
  {
   "cell_type": "code",
   "execution_count": 38,
   "id": "aa5c39e3",
   "metadata": {},
   "outputs": [
    {
     "data": {
      "text/plain": [
       "300"
      ]
     },
     "execution_count": 38,
     "metadata": {},
     "output_type": "execute_result"
    }
   ],
   "source": [
    "py_set.pop()"
   ]
  },
  {
   "cell_type": "code",
   "execution_count": 39,
   "id": "34e8ac06",
   "metadata": {},
   "outputs": [
    {
     "data": {
      "text/plain": [
       "500"
      ]
     },
     "execution_count": 39,
     "metadata": {},
     "output_type": "execute_result"
    }
   ],
   "source": [
    "py_set.pop()"
   ]
  },
  {
   "cell_type": "code",
   "execution_count": 40,
   "id": "2578b8b5",
   "metadata": {},
   "outputs": [],
   "source": [
    "p ={10, 100, 30, 300, 500, 600, 'c', 'hadoop', 'java', 'pyspark', 'python'}"
   ]
  },
  {
   "cell_type": "code",
   "execution_count": 49,
   "id": "fd0252ed",
   "metadata": {},
   "outputs": [
    {
     "data": {
      "text/plain": [
       "500"
      ]
     },
     "execution_count": 49,
     "metadata": {},
     "output_type": "execute_result"
    }
   ],
   "source": [
    "p.pop() # ---> ml"
   ]
  },
  {
   "cell_type": "code",
   "execution_count": null,
   "id": "a7774e27",
   "metadata": {},
   "outputs": [],
   "source": [
    "remove  -->present\n",
    "discard --> \n",
    "pop"
   ]
  },
  {
   "cell_type": "code",
   "execution_count": 50,
   "id": "85ea5614",
   "metadata": {},
   "outputs": [
    {
     "data": {
      "text/plain": [
       "{30, 600}"
      ]
     },
     "execution_count": 50,
     "metadata": {},
     "output_type": "execute_result"
    }
   ],
   "source": [
    "p"
   ]
  },
  {
   "cell_type": "code",
   "execution_count": 51,
   "id": "40a61dc4",
   "metadata": {},
   "outputs": [
    {
     "data": {
      "text/plain": [
       "600"
      ]
     },
     "execution_count": 51,
     "metadata": {},
     "output_type": "execute_result"
    }
   ],
   "source": [
    "p.pop()"
   ]
  },
  {
   "cell_type": "code",
   "execution_count": 52,
   "id": "afb7b9ee",
   "metadata": {},
   "outputs": [
    {
     "data": {
      "text/plain": [
       "{30}"
      ]
     },
     "execution_count": 52,
     "metadata": {},
     "output_type": "execute_result"
    }
   ],
   "source": [
    "p"
   ]
  },
  {
   "cell_type": "code",
   "execution_count": 53,
   "id": "ccc68cf5",
   "metadata": {},
   "outputs": [
    {
     "data": {
      "text/plain": [
       "{30, 600}"
      ]
     },
     "execution_count": 53,
     "metadata": {},
     "output_type": "execute_result"
    }
   ],
   "source": []
  },
  {
   "cell_type": "code",
   "execution_count": null,
   "id": "3318716f",
   "metadata": {},
   "outputs": [],
   "source": []
  },
  {
   "cell_type": "code",
   "execution_count": 61,
   "id": "036e9518",
   "metadata": {},
   "outputs": [],
   "source": [
    "p = {1,2,3}"
   ]
  },
  {
   "cell_type": "code",
   "execution_count": 62,
   "id": "3f075ff5",
   "metadata": {},
   "outputs": [],
   "source": [
    "p1 = {1,100,300}"
   ]
  },
  {
   "cell_type": "code",
   "execution_count": 56,
   "id": "1aede09a",
   "metadata": {},
   "outputs": [
    {
     "data": {
      "text/plain": [
       "{1, 2, 3, 100, 300}"
      ]
     },
     "execution_count": 56,
     "metadata": {},
     "output_type": "execute_result"
    }
   ],
   "source": [
    "p.union(p1)"
   ]
  },
  {
   "cell_type": "code",
   "execution_count": 57,
   "id": "f1e7a106",
   "metadata": {},
   "outputs": [
    {
     "data": {
      "text/plain": [
       "{1, 2, 3}"
      ]
     },
     "execution_count": 57,
     "metadata": {},
     "output_type": "execute_result"
    }
   ],
   "source": [
    "p"
   ]
  },
  {
   "cell_type": "code",
   "execution_count": 58,
   "id": "5b4fb61d",
   "metadata": {},
   "outputs": [
    {
     "data": {
      "text/plain": [
       "{1, 100, 300}"
      ]
     },
     "execution_count": 58,
     "metadata": {},
     "output_type": "execute_result"
    }
   ],
   "source": [
    "p1"
   ]
  },
  {
   "cell_type": "code",
   "execution_count": 59,
   "id": "6093b185",
   "metadata": {},
   "outputs": [],
   "source": [
    "p.update(p1)"
   ]
  },
  {
   "cell_type": "code",
   "execution_count": 60,
   "id": "62470eaf",
   "metadata": {},
   "outputs": [
    {
     "data": {
      "text/plain": [
       "{1, 2, 3, 100, 300}"
      ]
     },
     "execution_count": 60,
     "metadata": {},
     "output_type": "execute_result"
    }
   ],
   "source": [
    "p"
   ]
  },
  {
   "cell_type": "code",
   "execution_count": 63,
   "id": "51aa0326",
   "metadata": {},
   "outputs": [
    {
     "data": {
      "text/plain": [
       "{1, 2, 3}"
      ]
     },
     "execution_count": 63,
     "metadata": {},
     "output_type": "execute_result"
    }
   ],
   "source": [
    "p"
   ]
  },
  {
   "cell_type": "code",
   "execution_count": 64,
   "id": "26549770",
   "metadata": {},
   "outputs": [
    {
     "data": {
      "text/plain": [
       "{1, 100, 300}"
      ]
     },
     "execution_count": 64,
     "metadata": {},
     "output_type": "execute_result"
    }
   ],
   "source": [
    "p1"
   ]
  },
  {
   "cell_type": "code",
   "execution_count": 65,
   "id": "4668f608",
   "metadata": {},
   "outputs": [
    {
     "data": {
      "text/plain": [
       "{1}"
      ]
     },
     "execution_count": 65,
     "metadata": {},
     "output_type": "execute_result"
    }
   ],
   "source": [
    "p.intersection(p1)"
   ]
  },
  {
   "cell_type": "code",
   "execution_count": 66,
   "id": "11c8105a",
   "metadata": {},
   "outputs": [
    {
     "data": {
      "text/plain": [
       "{2, 3}"
      ]
     },
     "execution_count": 66,
     "metadata": {},
     "output_type": "execute_result"
    }
   ],
   "source": [
    "p.difference(p1)"
   ]
  },
  {
   "cell_type": "code",
   "execution_count": 67,
   "id": "de39ec9d",
   "metadata": {},
   "outputs": [
    {
     "data": {
      "text/plain": [
       "{100, 300}"
      ]
     },
     "execution_count": 67,
     "metadata": {},
     "output_type": "execute_result"
    }
   ],
   "source": [
    "p1.difference(p)"
   ]
  },
  {
   "cell_type": "code",
   "execution_count": 68,
   "id": "168364aa",
   "metadata": {},
   "outputs": [
    {
     "data": {
      "text/plain": [
       "{2, 3, 100, 300}"
      ]
     },
     "execution_count": 68,
     "metadata": {},
     "output_type": "execute_result"
    }
   ],
   "source": [
    "p.symmetric_difference(p1)"
   ]
  },
  {
   "cell_type": "code",
   "execution_count": 69,
   "id": "8b6b70fc",
   "metadata": {},
   "outputs": [],
   "source": [
    "loan  = {\"Jon\",'Arun','Justin','Keshav'}"
   ]
  },
  {
   "cell_type": "code",
   "execution_count": 72,
   "id": "6f77eab1",
   "metadata": {},
   "outputs": [],
   "source": [
    "credit = {\"Arun\",'Madhav',\"sonali\",'Jon'}"
   ]
  },
  {
   "cell_type": "code",
   "execution_count": 73,
   "id": "ecbeca40",
   "metadata": {},
   "outputs": [
    {
     "data": {
      "text/plain": [
       "{'Justin', 'Keshav'}"
      ]
     },
     "execution_count": 73,
     "metadata": {},
     "output_type": "execute_result"
    }
   ],
   "source": [
    "loan.difference(credit)"
   ]
  },
  {
   "cell_type": "code",
   "execution_count": 74,
   "id": "55ab81fa",
   "metadata": {},
   "outputs": [
    {
     "data": {
      "text/plain": [
       "{'Madhav', 'sonali'}"
      ]
     },
     "execution_count": 74,
     "metadata": {},
     "output_type": "execute_result"
    }
   ],
   "source": [
    "credit.difference(loan)"
   ]
  },
  {
   "cell_type": "code",
   "execution_count": 75,
   "id": "558c2351",
   "metadata": {},
   "outputs": [
    {
     "data": {
      "text/plain": [
       "{'Arun', 'Jon'}"
      ]
     },
     "execution_count": 75,
     "metadata": {},
     "output_type": "execute_result"
    }
   ],
   "source": [
    "loan.intersection(credit)"
   ]
  },
  {
   "cell_type": "code",
   "execution_count": 76,
   "id": "84ba0888",
   "metadata": {},
   "outputs": [
    {
     "data": {
      "text/plain": [
       "{'Justin', 'Keshav', 'Madhav', 'sonali'}"
      ]
     },
     "execution_count": 76,
     "metadata": {},
     "output_type": "execute_result"
    }
   ],
   "source": [
    "loan.symmetric_difference(credit)"
   ]
  },
  {
   "cell_type": "code",
   "execution_count": 77,
   "id": "593b3533",
   "metadata": {},
   "outputs": [
    {
     "data": {
      "text/plain": [
       "{'Arun', 'Jon', 'Justin', 'Keshav', 'Madhav', 'sonali'}"
      ]
     },
     "execution_count": 77,
     "metadata": {},
     "output_type": "execute_result"
    }
   ],
   "source": [
    "loan.union(credit)"
   ]
  },
  {
   "cell_type": "code",
   "execution_count": 78,
   "id": "125e8c98",
   "metadata": {},
   "outputs": [],
   "source": [
    "p = {1,2,3}"
   ]
  },
  {
   "cell_type": "code",
   "execution_count": 79,
   "id": "fb16fb7b",
   "metadata": {},
   "outputs": [],
   "source": [
    "p1 = {1,2,5}"
   ]
  },
  {
   "cell_type": "code",
   "execution_count": 80,
   "id": "b23b82ab",
   "metadata": {},
   "outputs": [
    {
     "data": {
      "text/plain": [
       "{3, 5}"
      ]
     },
     "execution_count": 80,
     "metadata": {},
     "output_type": "execute_result"
    }
   ],
   "source": [
    "p.symmetric_difference(p1)"
   ]
  },
  {
   "cell_type": "code",
   "execution_count": 81,
   "id": "f87e680f",
   "metadata": {},
   "outputs": [
    {
     "data": {
      "text/plain": [
       "{'Arun', 'Jon', 'Justin', 'Keshav'}"
      ]
     },
     "execution_count": 81,
     "metadata": {},
     "output_type": "execute_result"
    }
   ],
   "source": [
    "loan"
   ]
  },
  {
   "cell_type": "code",
   "execution_count": 82,
   "id": "ba993dfe",
   "metadata": {},
   "outputs": [],
   "source": [
    "loan1 = loan.copy()"
   ]
  },
  {
   "cell_type": "code",
   "execution_count": 83,
   "id": "4a58ee33",
   "metadata": {},
   "outputs": [
    {
     "data": {
      "text/plain": [
       "{'Arun', 'Jon', 'Justin', 'Keshav'}"
      ]
     },
     "execution_count": 83,
     "metadata": {},
     "output_type": "execute_result"
    }
   ],
   "source": [
    "loan1"
   ]
  },
  {
   "cell_type": "code",
   "execution_count": 84,
   "id": "6b1539a6",
   "metadata": {},
   "outputs": [
    {
     "data": {
      "text/plain": [
       "{'Arun', 'Jon', 'Justin', 'Keshav'}"
      ]
     },
     "execution_count": 84,
     "metadata": {},
     "output_type": "execute_result"
    }
   ],
   "source": [
    "loan"
   ]
  },
  {
   "cell_type": "code",
   "execution_count": 85,
   "id": "973e3d82",
   "metadata": {},
   "outputs": [],
   "source": [
    "s = {1,2,3}"
   ]
  },
  {
   "cell_type": "code",
   "execution_count": 86,
   "id": "19cd6b7d",
   "metadata": {},
   "outputs": [],
   "source": [
    "s1 = {1,2,3,4,5,6}"
   ]
  },
  {
   "cell_type": "code",
   "execution_count": 93,
   "id": "d010ee1f",
   "metadata": {},
   "outputs": [],
   "source": [
    "s3 = {1,100,200}"
   ]
  },
  {
   "cell_type": "code",
   "execution_count": 88,
   "id": "7708eb39",
   "metadata": {},
   "outputs": [
    {
     "data": {
      "text/plain": [
       "True"
      ]
     },
     "execution_count": 88,
     "metadata": {},
     "output_type": "execute_result"
    }
   ],
   "source": [
    "s1.issuperset(s)"
   ]
  },
  {
   "cell_type": "code",
   "execution_count": 89,
   "id": "37fd4807",
   "metadata": {},
   "outputs": [],
   "source": [
    "#method --> is ---> boolean result ---> True/False"
   ]
  },
  {
   "cell_type": "code",
   "execution_count": 90,
   "id": "e18e8d8e",
   "metadata": {},
   "outputs": [
    {
     "data": {
      "text/plain": [
       "True"
      ]
     },
     "execution_count": 90,
     "metadata": {},
     "output_type": "execute_result"
    }
   ],
   "source": [
    "s.issubset(s1)"
   ]
  },
  {
   "cell_type": "code",
   "execution_count": 94,
   "id": "b4c924ec",
   "metadata": {},
   "outputs": [
    {
     "data": {
      "text/plain": [
       "False"
      ]
     },
     "execution_count": 94,
     "metadata": {},
     "output_type": "execute_result"
    }
   ],
   "source": [
    "s3.isdisjoint(s)"
   ]
  },
  {
   "cell_type": "code",
   "execution_count": 95,
   "id": "2f890e75",
   "metadata": {},
   "outputs": [
    {
     "data": {
      "text/plain": [
       "False"
      ]
     },
     "execution_count": 95,
     "metadata": {},
     "output_type": "execute_result"
    }
   ],
   "source": [
    "s3.isdisjoint(s1)"
   ]
  },
  {
   "cell_type": "code",
   "execution_count": 98,
   "id": "27b05fb9",
   "metadata": {},
   "outputs": [
    {
     "name": "stdout",
     "output_type": "stream",
     "text": [
      "Hi\n"
     ]
    }
   ],
   "source": [
    "if s.issubset(s1):\n",
    "    print(\"Hi\")\n",
    "else:\n",
    "    print(\"bye\")"
   ]
  },
  {
   "cell_type": "code",
   "execution_count": null,
   "id": "7f0ba373",
   "metadata": {},
   "outputs": [],
   "source": [
    "s1 \n",
    "\n",
    "\n",
    "s2\n",
    "\n",
    "\n",
    "\n",
    "s3 "
   ]
  },
  {
   "cell_type": "code",
   "execution_count": 99,
   "id": "59fc2bad",
   "metadata": {},
   "outputs": [
    {
     "data": {
      "text/plain": [
       "{1, 2, 3}"
      ]
     },
     "execution_count": 99,
     "metadata": {},
     "output_type": "execute_result"
    }
   ],
   "source": [
    "s  "
   ]
  },
  {
   "cell_type": "code",
   "execution_count": 100,
   "id": "809b78ad",
   "metadata": {},
   "outputs": [
    {
     "data": {
      "text/plain": [
       "{1, 2, 3, 4, 5, 6}"
      ]
     },
     "execution_count": 100,
     "metadata": {},
     "output_type": "execute_result"
    }
   ],
   "source": [
    "s1"
   ]
  },
  {
   "cell_type": "code",
   "execution_count": 101,
   "id": "5d44ba94",
   "metadata": {},
   "outputs": [
    {
     "data": {
      "text/plain": [
       "{1, 2, 3, 100, 200, 300}"
      ]
     },
     "execution_count": 101,
     "metadata": {},
     "output_type": "execute_result"
    }
   ],
   "source": [
    "s2"
   ]
  },
  {
   "cell_type": "code",
   "execution_count": 102,
   "id": "e7c6db18",
   "metadata": {},
   "outputs": [
    {
     "data": {
      "text/plain": [
       "{1, 2, 3}"
      ]
     },
     "execution_count": 102,
     "metadata": {},
     "output_type": "execute_result"
    }
   ],
   "source": [
    "s.intersection(s1,s2)"
   ]
  },
  {
   "cell_type": "code",
   "execution_count": 103,
   "id": "950316cb",
   "metadata": {},
   "outputs": [],
   "source": [
    "p = {1,2,3}"
   ]
  },
  {
   "cell_type": "code",
   "execution_count": 104,
   "id": "e574b910",
   "metadata": {},
   "outputs": [],
   "source": [
    "p1=p"
   ]
  },
  {
   "cell_type": "code",
   "execution_count": 105,
   "id": "d4a454e8",
   "metadata": {},
   "outputs": [
    {
     "data": {
      "text/plain": [
       "{1, 2, 3}"
      ]
     },
     "execution_count": 105,
     "metadata": {},
     "output_type": "execute_result"
    }
   ],
   "source": [
    "p1"
   ]
  },
  {
   "cell_type": "code",
   "execution_count": 106,
   "id": "ac7fa8b5",
   "metadata": {},
   "outputs": [
    {
     "data": {
      "text/plain": [
       "{1, 2, 3}"
      ]
     },
     "execution_count": 106,
     "metadata": {},
     "output_type": "execute_result"
    }
   ],
   "source": [
    "p"
   ]
  },
  {
   "cell_type": "code",
   "execution_count": 107,
   "id": "25b0f233",
   "metadata": {},
   "outputs": [],
   "source": [
    "p.add(100)"
   ]
  },
  {
   "cell_type": "code",
   "execution_count": 108,
   "id": "c5b05156",
   "metadata": {},
   "outputs": [
    {
     "data": {
      "text/plain": [
       "{1, 2, 3, 100}"
      ]
     },
     "execution_count": 108,
     "metadata": {},
     "output_type": "execute_result"
    }
   ],
   "source": [
    "p1"
   ]
  },
  {
   "cell_type": "code",
   "execution_count": 109,
   "id": "2524d222",
   "metadata": {},
   "outputs": [
    {
     "data": {
      "text/plain": [
       "{1, 2, 3, 100}"
      ]
     },
     "execution_count": 109,
     "metadata": {},
     "output_type": "execute_result"
    }
   ],
   "source": [
    "p"
   ]
  },
  {
   "cell_type": "code",
   "execution_count": 110,
   "id": "24804834",
   "metadata": {},
   "outputs": [],
   "source": [
    "temp = p.copy()"
   ]
  },
  {
   "cell_type": "code",
   "execution_count": 111,
   "id": "f47325a0",
   "metadata": {},
   "outputs": [
    {
     "data": {
      "text/plain": [
       "{1, 2, 3, 100}"
      ]
     },
     "execution_count": 111,
     "metadata": {},
     "output_type": "execute_result"
    }
   ],
   "source": [
    "temp"
   ]
  },
  {
   "cell_type": "code",
   "execution_count": 112,
   "id": "6b3c3439",
   "metadata": {},
   "outputs": [],
   "source": [
    "temp.add(500)"
   ]
  },
  {
   "cell_type": "code",
   "execution_count": 113,
   "id": "09863561",
   "metadata": {},
   "outputs": [
    {
     "data": {
      "text/plain": [
       "{1, 2, 3, 100}"
      ]
     },
     "execution_count": 113,
     "metadata": {},
     "output_type": "execute_result"
    }
   ],
   "source": [
    "p"
   ]
  },
  {
   "cell_type": "code",
   "execution_count": null,
   "id": "d84fc079",
   "metadata": {},
   "outputs": [],
   "source": []
  }
 ],
 "metadata": {
  "kernelspec": {
   "display_name": "Python 3",
   "language": "python",
   "name": "python3"
  },
  "language_info": {
   "codemirror_mode": {
    "name": "ipython",
    "version": 3
   },
   "file_extension": ".py",
   "mimetype": "text/x-python",
   "name": "python",
   "nbconvert_exporter": "python",
   "pygments_lexer": "ipython3",
   "version": "3.8.8"
  }
 },
 "nbformat": 4,
 "nbformat_minor": 5
}
