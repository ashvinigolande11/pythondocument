{
 "cells": [
  {
   "cell_type": "code",
   "execution_count": null,
   "id": "eadf2bc5",
   "metadata": {},
   "outputs": [],
   "source": [
    "Tuple:\n",
    "    1.data security\n",
    "    2.immutable type ---> we cannt change its structure> its read only type\n",
    "    3.faster than list\n",
    "    4.()"
   ]
  },
  {
   "cell_type": "code",
   "execution_count": null,
   "id": "10569e9a",
   "metadata": {},
   "outputs": [],
   "source": [
    "interview \n",
    "\n",
    "\n",
    "list tuple\n",
    "[]    ()"
   ]
  },
  {
   "cell_type": "code",
   "execution_count": null,
   "id": "f4cbefe4",
   "metadata": {},
   "outputs": [],
   "source": [
    "data fetch --databse ---> operation\n",
    "deal id deal no deal value "
   ]
  },
  {
   "cell_type": "code",
   "execution_count": null,
   "id": "20c8de28",
   "metadata": {},
   "outputs": [],
   "source": [
    "processed_data  =[]\n",
    "\n",
    "\n",
    "unprocessed_data = []"
   ]
  },
  {
   "cell_type": "code",
   "execution_count": null,
   "id": "ef718b5c",
   "metadata": {},
   "outputs": [],
   "source": [
    "tuple ---> infrequent data change"
   ]
  },
  {
   "cell_type": "code",
   "execution_count": null,
   "id": "f71a7016",
   "metadata": {},
   "outputs": [],
   "source": [
    "cred = (username,password)"
   ]
  },
  {
   "cell_type": "code",
   "execution_count": null,
   "id": "44feb08b",
   "metadata": {},
   "outputs": [],
   "source": []
  },
  {
   "cell_type": "code",
   "execution_count": 1,
   "id": "f39404da",
   "metadata": {},
   "outputs": [],
   "source": [
    "t1 = (1,5,6,9,4)"
   ]
  },
  {
   "cell_type": "code",
   "execution_count": 2,
   "id": "b336fdeb",
   "metadata": {},
   "outputs": [
    {
     "data": {
      "text/plain": [
       "tuple"
      ]
     },
     "execution_count": 2,
     "metadata": {},
     "output_type": "execute_result"
    }
   ],
   "source": [
    "type(t1)"
   ]
  },
  {
   "cell_type": "code",
   "execution_count": 3,
   "id": "58658574",
   "metadata": {},
   "outputs": [
    {
     "ename": "AttributeError",
     "evalue": "'tuple' object has no attribute 'insert'",
     "output_type": "error",
     "traceback": [
      "\u001b[1;31m---------------------------------------------------------------------------\u001b[0m",
      "\u001b[1;31mAttributeError\u001b[0m                            Traceback (most recent call last)",
      "\u001b[1;32m<ipython-input-3-0a4232718ce5>\u001b[0m in \u001b[0;36m<module>\u001b[1;34m\u001b[0m\n\u001b[1;32m----> 1\u001b[1;33m \u001b[0mt1\u001b[0m\u001b[1;33m.\u001b[0m\u001b[0minsert\u001b[0m\u001b[1;33m(\u001b[0m\u001b[1;36m2\u001b[0m\u001b[1;33m,\u001b[0m\u001b[1;36m500\u001b[0m\u001b[1;33m)\u001b[0m\u001b[1;33m\u001b[0m\u001b[1;33m\u001b[0m\u001b[0m\n\u001b[0m",
      "\u001b[1;31mAttributeError\u001b[0m: 'tuple' object has no attribute 'insert'"
     ]
    }
   ],
   "source": [
    "t1.insert(2,500)"
   ]
  },
  {
   "cell_type": "code",
   "execution_count": 4,
   "id": "d10e304e",
   "metadata": {},
   "outputs": [],
   "source": [
    "cred = ('Admin','Admin@123')"
   ]
  },
  {
   "cell_type": "code",
   "execution_count": 5,
   "id": "bf311dcb",
   "metadata": {},
   "outputs": [
    {
     "ename": "AttributeError",
     "evalue": "'tuple' object has no attribute 'append'",
     "output_type": "error",
     "traceback": [
      "\u001b[1;31m---------------------------------------------------------------------------\u001b[0m",
      "\u001b[1;31mAttributeError\u001b[0m                            Traceback (most recent call last)",
      "\u001b[1;32m<ipython-input-5-5bade27f527b>\u001b[0m in \u001b[0;36m<module>\u001b[1;34m\u001b[0m\n\u001b[1;32m----> 1\u001b[1;33m \u001b[0mcred\u001b[0m\u001b[1;33m.\u001b[0m\u001b[0mappend\u001b[0m\u001b[1;33m(\u001b[0m\u001b[1;36m545\u001b[0m\u001b[1;33m)\u001b[0m\u001b[1;33m\u001b[0m\u001b[1;33m\u001b[0m\u001b[0m\n\u001b[0m",
      "\u001b[1;31mAttributeError\u001b[0m: 'tuple' object has no attribute 'append'"
     ]
    }
   ],
   "source": [
    "cred.append(545)"
   ]
  },
  {
   "cell_type": "code",
   "execution_count": 26,
   "id": "91421722",
   "metadata": {},
   "outputs": [],
   "source": [
    "c = ('Admin','Python@123')"
   ]
  },
  {
   "cell_type": "code",
   "execution_count": 27,
   "id": "c0c33550",
   "metadata": {},
   "outputs": [
    {
     "data": {
      "text/plain": [
       "('Admin', 'Python@123')"
      ]
     },
     "execution_count": 27,
     "metadata": {},
     "output_type": "execute_result"
    }
   ],
   "source": [
    "c"
   ]
  },
  {
   "cell_type": "code",
   "execution_count": 8,
   "id": "b4c965fb",
   "metadata": {},
   "outputs": [],
   "source": [
    "p = (1,1,1,1,1,1,1,2,3,34,)"
   ]
  },
  {
   "cell_type": "code",
   "execution_count": 9,
   "id": "84c90189",
   "metadata": {},
   "outputs": [
    {
     "data": {
      "text/plain": [
       "7"
      ]
     },
     "execution_count": 9,
     "metadata": {},
     "output_type": "execute_result"
    }
   ],
   "source": [
    "p.count(1)"
   ]
  },
  {
   "cell_type": "code",
   "execution_count": 10,
   "id": "245e40b6",
   "metadata": {},
   "outputs": [],
   "source": [
    "p = ('python','java','hadoop')"
   ]
  },
  {
   "cell_type": "code",
   "execution_count": 11,
   "id": "2fe38776",
   "metadata": {},
   "outputs": [
    {
     "data": {
      "text/plain": [
       "1"
      ]
     },
     "execution_count": 11,
     "metadata": {},
     "output_type": "execute_result"
    }
   ],
   "source": [
    "p.index('java')"
   ]
  },
  {
   "cell_type": "code",
   "execution_count": 12,
   "id": "7b495d21",
   "metadata": {},
   "outputs": [],
   "source": [
    "#some math operation"
   ]
  },
  {
   "cell_type": "code",
   "execution_count": null,
   "id": "c9d3d632",
   "metadata": {},
   "outputs": [],
   "source": [
    "int+int --> add\n",
    "str+str --> concat\n",
    "\n",
    "\n",
    "int*int --> mul\n",
    "ds/str/*int --> duplicate"
   ]
  },
  {
   "cell_type": "code",
   "execution_count": 13,
   "id": "92c48d0f",
   "metadata": {},
   "outputs": [
    {
     "data": {
      "text/plain": [
       "(1, 5, 6, 9, 4)"
      ]
     },
     "execution_count": 13,
     "metadata": {},
     "output_type": "execute_result"
    }
   ],
   "source": [
    "t1"
   ]
  },
  {
   "cell_type": "code",
   "execution_count": 14,
   "id": "90c339de",
   "metadata": {},
   "outputs": [
    {
     "data": {
      "text/plain": [
       "('python', 'java', 'hadoop')"
      ]
     },
     "execution_count": 14,
     "metadata": {},
     "output_type": "execute_result"
    }
   ],
   "source": [
    "p"
   ]
  },
  {
   "cell_type": "code",
   "execution_count": 18,
   "id": "baef84ee",
   "metadata": {},
   "outputs": [],
   "source": [
    "t2 = t1+p"
   ]
  },
  {
   "cell_type": "code",
   "execution_count": 16,
   "id": "c0d906fe",
   "metadata": {},
   "outputs": [
    {
     "data": {
      "text/plain": [
       "(1, 5, 6, 9, 4)"
      ]
     },
     "execution_count": 16,
     "metadata": {},
     "output_type": "execute_result"
    }
   ],
   "source": [
    "t1"
   ]
  },
  {
   "cell_type": "code",
   "execution_count": 17,
   "id": "0afed65f",
   "metadata": {},
   "outputs": [
    {
     "data": {
      "text/plain": [
       "('python', 'java', 'hadoop')"
      ]
     },
     "execution_count": 17,
     "metadata": {},
     "output_type": "execute_result"
    }
   ],
   "source": [
    "p"
   ]
  },
  {
   "cell_type": "code",
   "execution_count": 19,
   "id": "a1d5d496",
   "metadata": {},
   "outputs": [
    {
     "data": {
      "text/plain": [
       "(1, 5, 6, 9, 4, 'python', 'java', 'hadoop')"
      ]
     },
     "execution_count": 19,
     "metadata": {},
     "output_type": "execute_result"
    }
   ],
   "source": [
    "t2"
   ]
  },
  {
   "cell_type": "code",
   "execution_count": 20,
   "id": "1781a993",
   "metadata": {},
   "outputs": [
    {
     "data": {
      "text/plain": [
       "(1, 5, 6, 9, 4)"
      ]
     },
     "execution_count": 20,
     "metadata": {},
     "output_type": "execute_result"
    }
   ],
   "source": [
    "t1"
   ]
  },
  {
   "cell_type": "code",
   "execution_count": 21,
   "id": "98ae9ebe",
   "metadata": {},
   "outputs": [
    {
     "data": {
      "text/plain": [
       "(1, 5, 6, 9, 4, 1, 5, 6, 9, 4, 1, 5, 6, 9, 4, 1, 5, 6, 9, 4, 1, 5, 6, 9, 4)"
      ]
     },
     "execution_count": 21,
     "metadata": {},
     "output_type": "execute_result"
    }
   ],
   "source": [
    "t1*5"
   ]
  },
  {
   "cell_type": "code",
   "execution_count": 22,
   "id": "124c4c6c",
   "metadata": {},
   "outputs": [
    {
     "data": {
      "text/plain": [
       "'javajavajavajava'"
      ]
     },
     "execution_count": 22,
     "metadata": {},
     "output_type": "execute_result"
    }
   ],
   "source": [
    "'java'*4"
   ]
  },
  {
   "cell_type": "code",
   "execution_count": 23,
   "id": "f3ee1c49",
   "metadata": {},
   "outputs": [
    {
     "data": {
      "text/plain": [
       "30"
      ]
     },
     "execution_count": 23,
     "metadata": {},
     "output_type": "execute_result"
    }
   ],
   "source": [
    "6*5"
   ]
  },
  {
   "cell_type": "code",
   "execution_count": 24,
   "id": "1fadce61",
   "metadata": {},
   "outputs": [
    {
     "data": {
      "text/plain": [
       "112"
      ]
     },
     "execution_count": 24,
     "metadata": {},
     "output_type": "execute_result"
    }
   ],
   "source": [
    "56+56"
   ]
  },
  {
   "cell_type": "code",
   "execution_count": 25,
   "id": "effe3288",
   "metadata": {},
   "outputs": [
    {
     "data": {
      "text/plain": [
       "(1, 2, 3, 56, 45)"
      ]
     },
     "execution_count": 25,
     "metadata": {},
     "output_type": "execute_result"
    }
   ],
   "source": [
    "(1,2,3)+(56,45)"
   ]
  },
  {
   "cell_type": "code",
   "execution_count": null,
   "id": "8947b634",
   "metadata": {},
   "outputs": [],
   "source": [
    "comments\n",
    "doc string \n",
    "\n",
    "\n",
    "string "
   ]
  },
  {
   "cell_type": "code",
   "execution_count": 28,
   "id": "e7382dba",
   "metadata": {},
   "outputs": [],
   "source": [
    "#list and tuple complex"
   ]
  },
  {
   "cell_type": "code",
   "execution_count": null,
   "id": "6cd737f6",
   "metadata": {},
   "outputs": [],
   "source": [
    "list ---> "
   ]
  },
  {
   "cell_type": "code",
   "execution_count": null,
   "id": "952a8ec9",
   "metadata": {},
   "outputs": [],
   "source": [
    "[[[[[[[[[[[[]]]]]]]]]]]]"
   ]
  },
  {
   "cell_type": "code",
   "execution_count": null,
   "id": "ece5e014",
   "metadata": {},
   "outputs": [],
   "source": [
    "([])"
   ]
  },
  {
   "cell_type": "code",
   "execution_count": null,
   "id": "3ea0a250",
   "metadata": {},
   "outputs": [],
   "source": [
    "[()]"
   ]
  }
 ],
 "metadata": {
  "kernelspec": {
   "display_name": "Python 3",
   "language": "python",
   "name": "python3"
  },
  "language_info": {
   "codemirror_mode": {
    "name": "ipython",
    "version": 3
   },
   "file_extension": ".py",
   "mimetype": "text/x-python",
   "name": "python",
   "nbconvert_exporter": "python",
   "pygments_lexer": "ipython3",
   "version": "3.8.8"
  }
 },
 "nbformat": 4,
 "nbformat_minor": 5
}
